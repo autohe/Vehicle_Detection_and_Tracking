{
 "cells": [
  {
   "cell_type": "code",
   "execution_count": 1,
   "metadata": {
    "collapsed": true
   },
   "outputs": [],
   "source": [
    "import glob\n",
    "\n",
    "# Read in car and non-car images\n",
    "cars = []\n",
    "car_images1 = glob.glob('training_data/vehicles/GTI_Far/*.png')\n",
    "car_images2 = glob.glob('training_data/vehicles/GTI_Left/*.png')\n",
    "car_images3 = glob.glob('training_data/vehicles/GTI_MiddleClose/*.png')\n",
    "car_images4 = glob.glob('training_data/vehicles/GTI_Right/*.png')\n",
    "car_images5 = glob.glob('training_data/vehicles/KITTI_extracted/*.png')\n",
    "notcars = []\n",
    "non_car_images1 = glob.glob('training_data/non-vehicles/Extras/*.png')\n",
    "non_car_images2 = glob.glob('training_data/non-vehicles/GTI/*.png')\n",
    "\n",
    "def process_glob_images(images, category):\n",
    "    for image in images:\n",
    "        if category == 'cars':\n",
    "            cars.append(image)\n",
    "        else:\n",
    "            notcars.append(image)\n",
    "\n",
    "process_glob_images(car_images1,'cars')\n",
    "process_glob_images(car_images1,'cars')\n",
    "process_glob_images(car_images1,'cars')\n",
    "process_glob_images(car_images1,'cars')\n",
    "process_glob_images(car_images1,'cars')\n",
    "\n",
    "process_glob_images(non_car_images1,'notcars')\n",
    "process_glob_images(non_car_images2,'notcars')\n",
    "\n",
    "#for image in images:\n",
    "#    if 'image' in image or 'extra' in image:\n",
    "#        notcars.append(image)\n",
    "#    else:\n",
    "#        cars.append(image)"
   ]
  },
  {
   "cell_type": "code",
   "execution_count": 2,
   "metadata": {
    "collapsed": false
   },
   "outputs": [
    {
     "name": "stdout",
     "output_type": "stream",
     "text": [
      "4170\n"
     ]
    }
   ],
   "source": [
    "print(len(cars))"
   ]
  },
  {
   "cell_type": "code",
   "execution_count": 3,
   "metadata": {
    "collapsed": false
   },
   "outputs": [
    {
     "name": "stdout",
     "output_type": "stream",
     "text": [
      "8968\n"
     ]
    }
   ],
   "source": [
    "print(len(notcars))"
   ]
  },
  {
   "cell_type": "code",
   "execution_count": null,
   "metadata": {
    "collapsed": true
   },
   "outputs": [],
   "source": []
  }
 ],
 "metadata": {
  "kernelspec": {
   "display_name": "Python 3",
   "language": "python",
   "name": "python3"
  },
  "language_info": {
   "codemirror_mode": {
    "name": "ipython",
    "version": 3
   },
   "file_extension": ".py",
   "mimetype": "text/x-python",
   "name": "python",
   "nbconvert_exporter": "python",
   "pygments_lexer": "ipython3",
   "version": "3.5.2"
  }
 },
 "nbformat": 4,
 "nbformat_minor": 2
}
