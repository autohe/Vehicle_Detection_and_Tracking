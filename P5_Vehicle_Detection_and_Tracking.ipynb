{
 "cells": [
  {
   "cell_type": "markdown",
   "metadata": {
    "deletable": true,
    "editable": true
   },
   "source": [
    "# P5: Vehicle Detection and Tracking"
   ]
  },
  {
   "cell_type": "markdown",
   "metadata": {
    "collapsed": true,
    "deletable": true,
    "editable": true
   },
   "source": [
    "## Import the necessary libraries"
   ]
  },
  {
   "cell_type": "code",
   "execution_count": 1,
   "metadata": {
    "collapsed": false,
    "deletable": true,
    "editable": true
   },
   "outputs": [
    {
     "name": "stderr",
     "output_type": "stream",
     "text": [
      "/Users/Claudio/anaconda/envs/carnd-term1/lib/python3.5/site-packages/sklearn/cross_validation.py:44: DeprecationWarning: This module was deprecated in version 0.18 in favor of the model_selection module into which all the refactored classes and functions are moved. Also note that the interface of the new CV iterators are different from that of this module. This module will be removed in 0.20.\n",
      "  \"This module will be removed in 0.20.\", DeprecationWarning)\n"
     ]
    }
   ],
   "source": [
    "import os\n",
    "import matplotlib.image as mpimg\n",
    "import matplotlib.pyplot as plt\n",
    "import numpy as np\n",
    "import pickle\n",
    "import cv2\n",
    "import glob\n",
    "import time\n",
    "from random import shuffle\n",
    "from scipy.ndimage.measurements import label\n",
    "from skimage.feature import hog\n",
    "from sklearn.svm import LinearSVC\n",
    "from sklearn.preprocessing import StandardScaler\n",
    "from sklearn.cross_validation import train_test_split\n",
    "from moviepy.editor import VideoFileClip"
   ]
  },
  {
   "cell_type": "markdown",
   "metadata": {
    "deletable": true,
    "editable": true
   },
   "source": [
    "## Useful functions to be used in the image pipeline for Vehicle Detection and Tracking"
   ]
  },
  {
   "cell_type": "code",
   "execution_count": 2,
   "metadata": {
    "collapsed": true,
    "deletable": true,
    "editable": true
   },
   "outputs": [],
   "source": [
    "def convert_color(img, conv='RGB2YCrCb'):\n",
    "    if conv == 'RGB2YCrCb':\n",
    "        return cv2.cvtColor(img, cv2.COLOR_RGB2YCrCb)\n",
    "    if conv == 'BGR2YCrCb':\n",
    "        return cv2.cvtColor(img, cv2.COLOR_BGR2YCrCb)\n",
    "    if conv == 'RGB2LUV':\n",
    "        return cv2.cvtColor(img, cv2.COLOR_RGB2LUV)\n",
    "    if conv == 'BGR2LUV':\n",
    "        return cv2.cvtColor(img, cv2.COLOR_BGR2LUV)\n",
    "    if conv == 'RGB2HSV':\n",
    "        return cv2.cvtColor(img, cv2.COLOR_RGB2HSV)\n",
    "    if conv == 'BGR2HSV':\n",
    "        return cv2.cvtColor(img, cv2.COLOR_BGR2HSV)\n",
    "    if conv == 'RGB2HLS':\n",
    "        return cv2.cvtColor(img, cv2.COLOR_RGB2HLS)\n",
    "    if conv == 'BGR2HLS':\n",
    "        return cv2.cvtColor(img, cv2.COLOR_BGR2HLS)\n",
    "    if conv == 'RGB2YUV':\n",
    "        return cv2.cvtColor(img, cv2.COLOR_RGB2YUV)\n",
    "    if conv == 'BGR2YUV':\n",
    "        return cv2.cvtColor(img, cv2.COLOR_BGR2YUV)\n",
    "    if conv == 'RGB2BGR':\n",
    "        return cv2.cvtColor(img, cv2.COLOR_RGB2BGR)\n",
    "    if conv == 'BGR2RGB':\n",
    "        return cv2.cvtColor(img, cv2.COLOR_BGR2RGB)\n",
    "    \n",
    "def get_hog_features(img, orient, pix_per_cell, cell_per_block, \n",
    "                        vis=False, feature_vec=True):\n",
    "    # Call with two outputs if vis==True\n",
    "    if vis == True:\n",
    "        features, hog_image = hog(img, orientations=orient, \n",
    "                                  pixels_per_cell=(pix_per_cell, pix_per_cell),\n",
    "                                  cells_per_block=(cell_per_block, cell_per_block), \n",
    "                                  transform_sqrt=True, \n",
    "                                  visualise=vis, feature_vector=feature_vec)\n",
    "        return features, hog_image\n",
    "    # Otherwise call with one output\n",
    "    else:      \n",
    "        features = hog(img, orientations=orient, \n",
    "                       pixels_per_cell=(pix_per_cell, pix_per_cell),\n",
    "                       cells_per_block=(cell_per_block, cell_per_block), \n",
    "                       transform_sqrt=True, \n",
    "                       visualise=vis, feature_vector=feature_vec)\n",
    "        return features\n",
    "\n",
    "def bin_spatial(img, size=(32, 32)):\n",
    "    color1 = cv2.resize(img[:,:,0], size).ravel()\n",
    "    color2 = cv2.resize(img[:,:,1], size).ravel()\n",
    "    color3 = cv2.resize(img[:,:,2], size).ravel()\n",
    "    return np.hstack((color1, color2, color3))\n",
    "                        \n",
    "# Define a function to compute color histogram features  \n",
    "def color_hist(img, nbins=32, bins_range=(0, 256)):\n",
    "    # Compute the histogram of the color channels separately\n",
    "    channel1_hist = np.histogram(img[:,:,0], bins=nbins, range=bins_range)\n",
    "    channel2_hist = np.histogram(img[:,:,1], bins=nbins, range=bins_range)\n",
    "    channel3_hist = np.histogram(img[:,:,2], bins=nbins, range=bins_range)\n",
    "    # Concatenate the histograms into a single feature vector\n",
    "    hist_features = np.concatenate((channel1_hist[0], channel2_hist[0], channel3_hist[0]))\n",
    "    # Return the individual histograms, bin_centers and feature vector\n",
    "    return hist_features"
   ]
  },
  {
   "cell_type": "code",
   "execution_count": 3,
   "metadata": {
    "collapsed": true,
    "deletable": true,
    "editable": true
   },
   "outputs": [],
   "source": [
    "# Define a single function that can extract features using hog sub-sampling and make predictions\n",
    "def find_cars(img, ystart, ystop, scale, svc, X_scaler, orient, pix_per_cell, cell_per_block, spatial_size, hist_bins):\n",
    "    \n",
    "    draw_img = np.copy(img)\n",
    "    img = img.astype(np.float32)/255\n",
    "    \n",
    "    img_tosearch = img[ystart:ystop,:,:]\n",
    "    ctrans_tosearch = convert_color(img_tosearch, conv='RGB2HLS')\n",
    "    if scale != 1:\n",
    "        imshape = ctrans_tosearch.shape\n",
    "        ctrans_tosearch = cv2.resize(ctrans_tosearch, (np.int(imshape[1]/scale), np.int(imshape[0]/scale)))\n",
    "        \n",
    "    ch1 = ctrans_tosearch[:,:,0]\n",
    "    ch2 = ctrans_tosearch[:,:,1]\n",
    "    ch3 = ctrans_tosearch[:,:,2]\n",
    "\n",
    "    # Define blocks and steps as above\n",
    "    nxblocks = (ch1.shape[1] // pix_per_cell)-1\n",
    "    nyblocks = (ch1.shape[0] // pix_per_cell)-1 \n",
    "    nfeat_per_block = orient*cell_per_block**2\n",
    "    # 64 was the orginal sampling rate, with 8 cells and 8 pix per cell\n",
    "    window = 64\n",
    "    nblocks_per_window = (window // pix_per_cell)-1 \n",
    "    cells_per_step = 2  # Instead of overlap, define how many cells to step\n",
    "    nxsteps = (nxblocks - nblocks_per_window) // cells_per_step\n",
    "    nysteps = (nyblocks - nblocks_per_window) // cells_per_step\n",
    "    \n",
    "    # Compute individual channel HOG features for the entire image\n",
    "    hog1 = get_hog_features(ch1, orient, pix_per_cell, cell_per_block, feature_vec=False)\n",
    "    hog2 = get_hog_features(ch2, orient, pix_per_cell, cell_per_block, feature_vec=False)\n",
    "    hog3 = get_hog_features(ch3, orient, pix_per_cell, cell_per_block, feature_vec=False)\n",
    "    \n",
    "    boxes_list = []\n",
    "    for xb in range(nxsteps):\n",
    "        for yb in range(nysteps):\n",
    "            ypos = yb*cells_per_step\n",
    "            xpos = xb*cells_per_step\n",
    "            # Extract HOG for this patch\n",
    "            hog_feat1 = hog1[ypos:ypos+nblocks_per_window, xpos:xpos+nblocks_per_window].ravel() \n",
    "            hog_feat2 = hog2[ypos:ypos+nblocks_per_window, xpos:xpos+nblocks_per_window].ravel() \n",
    "            hog_feat3 = hog3[ypos:ypos+nblocks_per_window, xpos:xpos+nblocks_per_window].ravel() \n",
    "            hog_features = np.hstack((hog_feat1, hog_feat2, hog_feat3))\n",
    "\n",
    "            xleft = xpos*pix_per_cell\n",
    "            ytop = ypos*pix_per_cell\n",
    "\n",
    "            # Extract the image patch\n",
    "            subimg = cv2.resize(ctrans_tosearch[ytop:ytop+window, xleft:xleft+window], (64,64))\n",
    "          \n",
    "            # Get color features\n",
    "            spatial_features = bin_spatial(subimg, size=spatial_size)\n",
    "            hist_features = color_hist(subimg, nbins=hist_bins)\n",
    "\n",
    "            # Scale features and make a prediction\n",
    "            test_features = X_scaler.transform(np.hstack((spatial_features, hist_features, hog_features)).reshape(1, -1))    \n",
    "            #test_features = X_scaler.transform(np.hstack((shape_feat, hist_feat)).reshape(1, -1))    \n",
    "            test_prediction = svc.predict(test_features)\n",
    "            \n",
    "            if test_prediction == 1:\n",
    "                xbox_left = np.int(xleft*scale)\n",
    "                ytop_draw = np.int(ytop*scale)\n",
    "                win_draw = np.int(window*scale)\n",
    "                cv2.rectangle(draw_img,(xbox_left, ytop_draw+ystart),(xbox_left+win_draw,ytop_draw+win_draw+ystart),(0,0,255),6)\n",
    "                box = np.array([[xbox_left,ytop_draw+ystart],[xbox_left+win_draw,ytop_draw+win_draw+ystart]])\n",
    "                boxes_list.append(box)\n",
    "    return (draw_img,boxes_list)"
   ]
  },
  {
   "cell_type": "code",
   "execution_count": 4,
   "metadata": {
    "collapsed": true,
    "deletable": true,
    "editable": true
   },
   "outputs": [],
   "source": [
    "## Heat-map functions\n",
    "def add_heat(heatmap, bbox_list):\n",
    "    # Iterate through list of bboxes\n",
    "    for box in bbox_list:\n",
    "        # Add += 1 for all pixels inside each bbox\n",
    "        # Assuming each \"box\" takes the form ((x1, y1), (x2, y2))\n",
    "        heatmap[box[0][1]:box[1][1], box[0][0]:box[1][0]] += 1\n",
    "\n",
    "    # Return updated heatmap\n",
    "    return heatmap# Iterate through list of bboxes\n",
    "    \n",
    "def apply_threshold(heatmap, threshold):\n",
    "    # Zero out pixels below the threshold\n",
    "    heatmap[heatmap <= threshold] = 0\n",
    "    # Return thresholded map\n",
    "    return heatmap\n",
    "\n",
    "def draw_labeled_bboxes(img, labels):\n",
    "    # Iterate through all detected cars\n",
    "    for car_number in range(1, labels[1]+1):\n",
    "        # Find pixels with each car_number label value\n",
    "        nonzero = (labels[0] == car_number).nonzero()\n",
    "        # Identify x and y values of those pixels\n",
    "        nonzeroy = np.array(nonzero[0])\n",
    "        nonzerox = np.array(nonzero[1])\n",
    "        # Define a bounding box based on min/max x and y\n",
    "        bbox = ((np.min(nonzerox), np.min(nonzeroy)), (np.max(nonzerox), np.max(nonzeroy)))\n",
    "        # Draw the box on the image\n",
    "        cv2.rectangle(img, bbox[0], bbox[1], (0,0,255), 6)\n",
    "    # Return the image\n",
    "    return img"
   ]
  },
  {
   "cell_type": "markdown",
   "metadata": {
    "deletable": true,
    "editable": true
   },
   "source": [
    "## Training"
   ]
  },
  {
   "cell_type": "code",
   "execution_count": 5,
   "metadata": {
    "collapsed": true,
    "deletable": true,
    "editable": true
   },
   "outputs": [],
   "source": [
    "# Define a function to extract features from a list of images\n",
    "# Have this function call bin_spatial(), color_hist() and get_hog_features()\n",
    "def extract_features(imgs, cspace='RGB', orient=9, \n",
    "                        pix_per_cell=8, cell_per_block=2, hog_channel=0):\n",
    "    # Create a list to append feature vectors to\n",
    "    features = []\n",
    "    # Iterate through the list of images\n",
    "    for file in imgs:\n",
    "        # Read in each one by one\n",
    "        image = mpimg.imread(file)\n",
    "        # apply color conversion if other than 'RGB'\n",
    "        if cspace != 'RGB':\n",
    "            if cspace == 'HSV':\n",
    "                feature_image = cv2.cvtColor(image, cv2.COLOR_RGB2HSV)\n",
    "            elif cspace == 'LUV':\n",
    "                feature_image = cv2.cvtColor(image, cv2.COLOR_RGB2LUV)\n",
    "            elif cspace == 'HLS':\n",
    "                feature_image = cv2.cvtColor(image, cv2.COLOR_RGB2HLS)\n",
    "            elif cspace == 'YUV':\n",
    "                feature_image = cv2.cvtColor(image, cv2.COLOR_RGB2YUV)\n",
    "            elif cspace == 'YCrCb':\n",
    "                feature_image = cv2.cvtColor(image, cv2.COLOR_RGB2YCrCb)\n",
    "        else: feature_image = np.copy(image)      \n",
    "\n",
    "        # Call get_hog_features() with vis=False, feature_vec=True\n",
    "        if hog_channel == 'ALL':\n",
    "            hog_features = []\n",
    "            for channel in range(feature_image.shape[2]):\n",
    "                hog_features.append(get_hog_features(feature_image[:,:,channel], \n",
    "                                    orient, pix_per_cell, cell_per_block, \n",
    "                                    vis=False, feature_vec=True))\n",
    "            hog_features = np.ravel(hog_features)        \n",
    "        else:\n",
    "            hog_features = get_hog_features(feature_image[:,:,hog_channel], orient, \n",
    "                        pix_per_cell, cell_per_block, vis=False, feature_vec=True)\n",
    "            \n",
    "        # Apply bin_spatial() to get spatial color features\n",
    "        spatial_features = bin_spatial(feature_image, size=spatial_size)\n",
    "        # Apply color_hist() also with a color space option now\n",
    "        hist_features = color_hist(feature_image, nbins=hist_bins)\n",
    "        # Append the new feature vector to the features list\n",
    "        combined_features = np.concatenate((spatial_features, hist_features))\n",
    "        combined_features = np.concatenate((combined_features, hog_features))\n",
    "        # Append the new feature vector to the features list\n",
    "        features.append(combined_features)\n",
    "        \n",
    "    # Return list of feature vectors\n",
    "    return features"
   ]
  },
  {
   "cell_type": "code",
   "execution_count": 6,
   "metadata": {
    "collapsed": true,
    "deletable": true,
    "editable": true
   },
   "outputs": [],
   "source": [
    "def process_glob_images(images, category):\n",
    "    for image in images:\n",
    "        if category == 'cars':\n",
    "            cars.append(image)\n",
    "        else:\n",
    "            notcars.append(image)"
   ]
  },
  {
   "cell_type": "code",
   "execution_count": 7,
   "metadata": {
    "collapsed": false,
    "deletable": true,
    "editable": true
   },
   "outputs": [
    {
     "name": "stdout",
     "output_type": "stream",
     "text": [
      "There are 4170 cars images in the training dataset\n",
      "There are 8968 not-cars images in the training dataset\n",
      "80.72 Seconds to extract HOG features...\n",
      "Using: 9 orientations 8 pixels per cell and 2 cells per block\n",
      "Feature vector length: 8412\n",
      "34.49 Seconds to train SVC...\n",
      "Test Accuracy of SVC =  0.997\n",
      "My SVC predicts:  [ 0.  0.  1.  0.  0.  0.  0.  1.  0.  1.]\n",
      "For these 10 labels:  [ 0.  0.  1.  0.  0.  0.  0.  1.  0.  1.]\n",
      "0.01996 Seconds to predict 10 labels with SVC\n"
     ]
    }
   ],
   "source": [
    "# Divide up into cars and notcars\n",
    "# Read in car and non-car images\n",
    "cars = []\n",
    "car_images1 = glob.glob('training_data/vehicles/GTI_Far/*.png')\n",
    "car_images2 = glob.glob('training_data/vehicles/GTI_Left/*.png')\n",
    "car_images3 = glob.glob('training_data/vehicles/GTI_MiddleClose/*.png')\n",
    "car_images4 = glob.glob('training_data/vehicles/GTI_Right/*.png')\n",
    "car_images5 = glob.glob('training_data/vehicles/KITTI_extracted/*.png')\n",
    "process_glob_images(car_images1,'cars')\n",
    "process_glob_images(car_images1,'cars')\n",
    "process_glob_images(car_images1,'cars')\n",
    "process_glob_images(car_images1,'cars')\n",
    "process_glob_images(car_images1,'cars')\n",
    "print(\"There are \" + str(len(cars)) + \" cars images in the training dataset\")\n",
    "shuffle(cars)\n",
    "\n",
    "notcars = []\n",
    "non_car_images1 = glob.glob('training_data/non-vehicles/Extras/*.png')\n",
    "non_car_images2 = glob.glob('training_data/non-vehicles/GTI/*.png')\n",
    "process_glob_images(non_car_images1,'notcars')\n",
    "process_glob_images(non_car_images2,'notcars')\n",
    "shuffle(notcars)\n",
    "#notcars = notcars[:len(cars)]\n",
    "print(\"There are \" + str(len(notcars)) + \" not-cars images in the training dataset\")\n",
    "\n",
    "\n",
    "colorspace = 'HLS' # Can be RGB, HSV, LUV, HLS, YUV, YCrCb       \n",
    "orient = 9  # HOG orientations\n",
    "pix_per_cell = 8 # HOG pixels per cell\n",
    "cell_per_block = 2 # HOG cells per block\n",
    "hog_channel = \"ALL\" # Can be 0, 1, 2, or \"ALL\"\n",
    "spatial_size = (32, 32) # Spatial binning dimensions \n",
    "hist_bins = 16    # Number of histogram bins\n",
    "spatial_feat = True # Spatial features on or off\n",
    "hist_feat = True # Histogram features on or off\n",
    "hog_feat = True # HOG features on or off\n",
    "y_start_stop = [400, 656] # Min and max in y to search in slide_window()\n",
    "\n",
    "t=time.time()\n",
    "car_features = extract_features(cars, cspace=colorspace, orient=orient, \n",
    "                        pix_per_cell=pix_per_cell, cell_per_block=cell_per_block, \n",
    "                        hog_channel=hog_channel)\n",
    "notcar_features = extract_features(notcars, cspace=colorspace, orient=orient, \n",
    "                        pix_per_cell=pix_per_cell, cell_per_block=cell_per_block, \n",
    "                        hog_channel=hog_channel)\n",
    "t2 = time.time()\n",
    "print(round(t2-t, 2), 'Seconds to extract HOG features...')\n",
    "# Create an array stack of feature vectors\n",
    "X = np.vstack((car_features, notcar_features)).astype(np.float64)                        \n",
    "# Fit a per-column scaler\n",
    "X_scaler = StandardScaler().fit(X)\n",
    "# Apply the scaler to X\n",
    "scaled_X = X_scaler.transform(X)\n",
    "\n",
    "# Define the labels vector\n",
    "y = np.hstack((np.ones(len(car_features)), np.zeros(len(notcar_features))))\n",
    "\n",
    "\n",
    "# Split up data into randomized training and test sets\n",
    "rand_state = np.random.randint(0, 100)\n",
    "X_train, X_test, y_train, y_test = train_test_split(\n",
    "    scaled_X, y, test_size=0.2, random_state=rand_state)\n",
    "\n",
    "print('Using:',orient,'orientations',pix_per_cell,\n",
    "    'pixels per cell and', cell_per_block,'cells per block')\n",
    "print('Feature vector length:', len(X_train[0]))\n",
    "# Use a linear SVC \n",
    "svc = LinearSVC()\n",
    "# Check the training time for the SVC\n",
    "t=time.time()\n",
    "svc.fit(X_train, y_train)\n",
    "t2 = time.time()\n",
    "print(round(t2-t, 2), 'Seconds to train SVC...')\n",
    "# Check the score of the SVC\n",
    "print('Test Accuracy of SVC = ', round(svc.score(X_test, y_test), 4))\n",
    "# Check the prediction time for a single sample\n",
    "t=time.time()\n",
    "n_predict = 10\n",
    "print('My SVC predicts: ', svc.predict(X_test[0:n_predict]))\n",
    "print('For these',n_predict, 'labels: ', y_test[0:n_predict])\n",
    "t2 = time.time()\n",
    "print(round(t2-t, 5), 'Seconds to predict', n_predict,'labels with SVC')"
   ]
  },
  {
   "cell_type": "markdown",
   "metadata": {
    "deletable": true,
    "editable": true
   },
   "source": [
    "## Image Pipeline"
   ]
  },
  {
   "cell_type": "code",
   "execution_count": 8,
   "metadata": {
    "collapsed": true,
    "deletable": true,
    "editable": true
   },
   "outputs": [],
   "source": [
    "# This function makes sure that each processed image is saved in the \n",
    "# appropriate folder \n",
    "def save_img(img, folder, fname, stage_name, col_map):\n",
    "    if fname != \"None\":\n",
    "        if not os.path.exists(folder):\n",
    "            os.makedirs(folder)\n",
    "        if fname != \"chosen\":\n",
    "            fname = fname.split('/')[1]\n",
    "            fname = fname.split('.')[0]\n",
    "            new_filename = fname + \"_\" + stage_name + '.jpg'\n",
    "        else:\n",
    "            new_filename = stage_name + '.jpg'\n",
    "            \n",
    "        mpimg.imsave(folder + \"/\" + new_filename, img,cmap=col_map)"
   ]
  },
  {
   "cell_type": "code",
   "execution_count": 9,
   "metadata": {
    "collapsed": true,
    "deletable": true,
    "editable": true
   },
   "outputs": [],
   "source": [
    "def draw_boxes(img, bboxes, color=(0, 0, 255), thick=6):\n",
    "    # Make a copy of the image\n",
    "    draw_img = np.copy(img)\n",
    "    # Iterate through the bounding boxes\n",
    "    for bbox in bboxes:\n",
    "        # Draw a rectangle given bbox coordinates\n",
    "        cv2.rectangle(draw_img, (bbox[0][0],bbox[0][1]), (bbox[1][0],bbox[1][1]), color, thick)\n",
    "    # Return the image copy with boxes drawn\n",
    "    return draw_img"
   ]
  },
  {
   "cell_type": "code",
   "execution_count": 10,
   "metadata": {
    "collapsed": true,
    "deletable": true,
    "editable": true
   },
   "outputs": [],
   "source": [
    "ystart = y_start_stop[0]   \n",
    "ystop = y_start_stop[1]\n",
    "\n",
    "# This function processes each individual image coming from the video stream \n",
    "# and estimates where the cars are\n",
    "def image_pipeline(img, fname):\n",
    "    out_img, boxes_list_1 = find_cars(img, y_start_stop[0] , y_start_stop[1], 1.5, svc, X_scaler, orient, pix_per_cell, cell_per_block, spatial_size, hist_bins)\n",
    "    out_img, boxes_list_2 = find_cars(img, y_start_stop[0] , y_start_stop[1], 2, svc, X_scaler, orient, pix_per_cell, cell_per_block, spatial_size, hist_bins)\n",
    "    out_img, boxes_list_3 = find_cars(img, y_start_stop[0] , y_start_stop[1], 1, svc, X_scaler, orient, pix_per_cell, cell_per_block, spatial_size, hist_bins)\n",
    "    \n",
    "    boxes_list = boxes_list_1 + boxes_list_2 + boxes_list_3\n",
    "    result = draw_boxes(img, tuple(boxes_list))\n",
    "    save_img(result, \"output_images/pre_heat_map\", fname, \"pre_heat_map\", col_map = 'jet')\n",
    "    \n",
    "    heat = np.zeros_like(img[:,:,0]).astype(np.float)\n",
    "    \n",
    "    # Add heat to each box in box list\n",
    "    heat = add_heat(heat,boxes_list)  \n",
    "    save_img(heat, \"output_images/heat_pre_threshold\", fname, \"heat_pre_threshold\", col_map = 'hot')\n",
    "    \n",
    "    global heat_previous\n",
    "    if fname == \"None\":\n",
    "        heat_previous = heat_previous*0.6\n",
    "        heat_previous = heat_previous + heat \n",
    "        heat = apply_threshold(heat_previous,4)\n",
    "\n",
    "    # Apply threshold to help remove false positives\n",
    "    if fname != \"None\":\n",
    "        heat = apply_threshold(heat,2)\n",
    "    save_img(heat, \"output_images/heat_post_threshold\", fname, \"heat_post_threshold\", col_map = 'gray')\n",
    "    # Visualize the heatmap when displaying    \n",
    "    heatmap = np.clip(heat, 0, 255)\n",
    "    # Find final boxes from heatmap using label function\n",
    "    labels = label(heatmap)\n",
    "    heat_img = draw_labeled_bboxes(np.copy(img), labels)\n",
    "    save_img(heat_img, \"output_images/post_heat_map\", fname, \"post_heat_map\", col_map = 'jet')\n",
    "    return heat_img"
   ]
  },
  {
   "cell_type": "markdown",
   "metadata": {
    "deletable": true,
    "editable": true
   },
   "source": [
    "## Test Images"
   ]
  },
  {
   "cell_type": "code",
   "execution_count": 11,
   "metadata": {
    "collapsed": false,
    "deletable": true,
    "editable": true
   },
   "outputs": [],
   "source": [
    "# Create the output_images directory \n",
    "if not os.path.exists(\"output_images\"):\n",
    "    os.makedirs(\"output_images\")\n",
    "\n",
    "# Read in and make a list of the test images\n",
    "test_images = glob.glob('test_images/*.jpg')\n",
    "\n",
    "for fname in test_images:\n",
    "    # read in each image\n",
    "    img = mpimg.imread(fname)\n",
    "    \n",
    "    result = image_pipeline(img, fname)"
   ]
  },
  {
   "cell_type": "code",
   "execution_count": 12,
   "metadata": {
    "collapsed": false,
    "deletable": true,
    "editable": true
   },
   "outputs": [],
   "source": [
    "# Show Hog Features on a couple of training images\n",
    "\n",
    "fig1 = plt.figure()\n",
    "# Car Image\n",
    "car_image = mpimg.imread(cars[0])\n",
    "car_image_HLS = convert_color(car_image, conv='RGB2HLS')\n",
    "plt.subplot(221)\n",
    "plt.imshow(car_image)\n",
    "plt.title('Car (RGB)')\n",
    "plt.subplot(223)\n",
    "plt.imshow(car_image_HLS)\n",
    "plt.title('Car (HLS)')\n",
    "# Non-Car Image\n",
    "non_car_img = mpimg.imread(notcars[0])\n",
    "non_car_image_HLS = convert_color(non_car_img, conv='RGB2HLS')\n",
    "plt.subplot(222)\n",
    "plt.imshow(non_car_img)\n",
    "plt.title('Not-Car (RGB)')\n",
    "plt.subplot(224)\n",
    "plt.imshow(non_car_image_HLS)\n",
    "plt.title('Not-Car (HLS)')\n",
    "plt.tight_layout()\n",
    "fig1.savefig('training_examples/car_and_noncar.png')\n",
    "\n",
    "\n",
    "fig2 = plt.figure()\n",
    "# Car channels and HOG features \n",
    "ch1_car = car_image_HLS[:,:,0]\n",
    "ch2_car = car_image_HLS[:,:,1]\n",
    "ch3_car = car_image_HLS[:,:,2]\n",
    "(features_ch1_car, hog_image_ch1_car) = get_hog_features(ch1_car, orient, pix_per_cell, cell_per_block, vis=True, feature_vec=False)\n",
    "(features_ch2_car, hog_image_ch2_car) = get_hog_features(ch2_car, orient, pix_per_cell, cell_per_block, vis=True, feature_vec=False)\n",
    "(features_ch3_car, hog_image_ch3_car) = get_hog_features(ch3_car, orient, pix_per_cell, cell_per_block, vis=True, feature_vec=False)\n",
    "# Non-car channels and HOG features\n",
    "ch1_non_car = non_car_image_HLS[:,:,0]\n",
    "ch2_non_car = non_car_image_HLS[:,:,1]\n",
    "ch3_non_car = non_car_image_HLS[:,:,2]\n",
    "(features_ch1_non_car, hog_image_ch1_non_car) = get_hog_features(ch1_non_car, orient, pix_per_cell, cell_per_block, vis=True, feature_vec=False)\n",
    "(features_ch2_non_car, hog_image_ch2_non_car) = get_hog_features(ch2_non_car, orient, pix_per_cell, cell_per_block, vis=True, feature_vec=False)\n",
    "(features_ch3_non_car, hog_image_ch3_non_car) = get_hog_features(ch3_non_car, orient, pix_per_cell, cell_per_block, vis=True, feature_vec=False)\n",
    "\n",
    "plt.subplot2grid((3,4), (0,0))\n",
    "plt.imshow(ch1_car, cmap='gray')\n",
    "plt.title('Car ch1')\n",
    "plt.subplot2grid((3,4), (1,0))\n",
    "plt.imshow(ch2_car, cmap='gray')\n",
    "plt.title('Car ch2')\n",
    "plt.subplot2grid((3,4), (2,0))\n",
    "plt.imshow(ch3_car, cmap='gray')\n",
    "plt.title('Car ch3')\n",
    "\n",
    "plt.subplot2grid((3,4), (0,1))\n",
    "plt.imshow(hog_image_ch1_car, cmap='gray')\n",
    "plt.title('Car ch1 Hog')\n",
    "plt.subplot2grid((3,4), (1,1))\n",
    "plt.imshow(hog_image_ch2_car, cmap='gray')\n",
    "plt.title('Car ch2 Hog')\n",
    "plt.subplot2grid((3,4), (2,1))\n",
    "plt.imshow(hog_image_ch3_car, cmap='gray')\n",
    "plt.title('Car ch3 Hog')\n",
    "\n",
    "plt.subplot2grid((3,4), (0,2))\n",
    "plt.imshow(ch1_non_car, cmap='gray')\n",
    "plt.title('Non-Car ch1')\n",
    "plt.subplot2grid((3,4), (1,2))\n",
    "plt.imshow(ch2_non_car, cmap='gray')\n",
    "plt.title('Non-Car ch2')\n",
    "plt.subplot2grid((3,4), (2,2))\n",
    "plt.imshow(ch3_non_car, cmap='gray')\n",
    "plt.title('Non-Car ch3')\n",
    "\n",
    "plt.subplot2grid((3,4), (0,3))\n",
    "plt.imshow(hog_image_ch1_non_car, cmap='gray')\n",
    "plt.title('Non-Car ch1 Hog')\n",
    "plt.subplot2grid((3,4), (1,3))\n",
    "plt.imshow(hog_image_ch2_non_car, cmap='gray')\n",
    "plt.title('Non-Car ch2 Hog')\n",
    "plt.subplot2grid((3,4), (2,3))\n",
    "plt.imshow(hog_image_ch3_non_car, cmap='gray')\n",
    "plt.title('Non-Car ch3 Hog')\n",
    "\n",
    "plt.tight_layout()\n",
    "fig2.savefig('training_examples/HOG_features.png')\n"
   ]
  },
  {
   "cell_type": "markdown",
   "metadata": {
    "deletable": true,
    "editable": true
   },
   "source": [
    "## Test on Videos"
   ]
  },
  {
   "cell_type": "code",
   "execution_count": 13,
   "metadata": {
    "collapsed": true,
    "deletable": true,
    "editable": true
   },
   "outputs": [],
   "source": [
    "heat_previous = np.zeros_like(img[:,:,0]).astype(np.float)"
   ]
  },
  {
   "cell_type": "code",
   "execution_count": 14,
   "metadata": {
    "collapsed": true,
    "deletable": true,
    "editable": true
   },
   "outputs": [],
   "source": [
    "def process_image(image):\n",
    "    result = image_pipeline(image, \"None\")\n",
    "    return result"
   ]
  },
  {
   "cell_type": "code",
   "execution_count": 15,
   "metadata": {
    "collapsed": false,
    "deletable": true,
    "editable": true
   },
   "outputs": [
    {
     "name": "stdout",
     "output_type": "stream",
     "text": [
      "[MoviePy] >>>> Building video test_video_output.mp4\n",
      "[MoviePy] Writing video test_video_output.mp4\n"
     ]
    },
    {
     "name": "stderr",
     "output_type": "stream",
     "text": [
      " 97%|█████████▋| 38/39 [01:01<00:01,  1.48s/it]\n"
     ]
    },
    {
     "name": "stdout",
     "output_type": "stream",
     "text": [
      "[MoviePy] Done.\n",
      "[MoviePy] >>>> Video ready: test_video_output.mp4 \n",
      "\n",
      "CPU times: user 57.7 s, sys: 2.66 s, total: 1min\n",
      "Wall time: 1min 2s\n"
     ]
    }
   ],
   "source": [
    "test_output = 'test_video_output.mp4'\n",
    "clip1 = VideoFileClip(\"test_video.mp4\")\n",
    "test_clip = clip1.fl_image(process_image) #NOTE: this function expects color images!!\n",
    "%time test_clip.write_videofile(test_output, audio=False)"
   ]
  },
  {
   "cell_type": "code",
   "execution_count": 16,
   "metadata": {
    "collapsed": true,
    "deletable": true,
    "editable": true
   },
   "outputs": [],
   "source": [
    "heat_previous = np.zeros_like(img[:,:,0]).astype(np.float)"
   ]
  },
  {
   "cell_type": "code",
   "execution_count": 17,
   "metadata": {
    "collapsed": false,
    "deletable": true,
    "editable": true
   },
   "outputs": [
    {
     "name": "stdout",
     "output_type": "stream",
     "text": [
      "[MoviePy] >>>> Building video project_video_output.mp4\n",
      "[MoviePy] Writing video project_video_output.mp4\n"
     ]
    },
    {
     "name": "stderr",
     "output_type": "stream",
     "text": [
      "100%|█████████▉| 1260/1261 [35:13<00:01,  1.60s/it]\n"
     ]
    },
    {
     "name": "stdout",
     "output_type": "stream",
     "text": [
      "[MoviePy] Done.\n",
      "[MoviePy] >>>> Video ready: project_video_output.mp4 \n",
      "\n",
      "CPU times: user 33min, sys: 1min 46s, total: 34min 46s\n",
      "Wall time: 35min 14s\n"
     ]
    }
   ],
   "source": [
    "project_output = 'project_video_output.mp4'\n",
    "clip2 = VideoFileClip(\"project_video.mp4\")\n",
    "project_clip = clip2.fl_image(process_image) #NOTE: this function expects color images!!\n",
    "%time project_clip.write_videofile(project_output, audio=False)"
   ]
  },
  {
   "cell_type": "code",
   "execution_count": null,
   "metadata": {
    "collapsed": true,
    "deletable": true,
    "editable": true
   },
   "outputs": [],
   "source": []
  },
  {
   "cell_type": "code",
   "execution_count": null,
   "metadata": {
    "collapsed": true,
    "deletable": true,
    "editable": true
   },
   "outputs": [],
   "source": []
  }
 ],
 "metadata": {
  "kernelspec": {
   "display_name": "Python 3",
   "language": "python",
   "name": "python3"
  },
  "language_info": {
   "codemirror_mode": {
    "name": "ipython",
    "version": 3
   },
   "file_extension": ".py",
   "mimetype": "text/x-python",
   "name": "python",
   "nbconvert_exporter": "python",
   "pygments_lexer": "ipython3",
   "version": "3.5.2"
  }
 },
 "nbformat": 4,
 "nbformat_minor": 2
}
